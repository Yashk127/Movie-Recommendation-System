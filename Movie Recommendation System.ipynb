{
 "cells": [
  {
   "cell_type": "code",
   "execution_count": 1,
   "id": "31694d42",
   "metadata": {},
   "outputs": [],
   "source": [
    "import tensorflow as tf\n",
    "import numpy as np\n",
    "import pandas as pd"
   ]
  },
  {
   "cell_type": "code",
   "execution_count": 2,
   "id": "afc71042",
   "metadata": {},
   "outputs": [],
   "source": [
    "df = pd.read_csv(\"movie_dataset.csv\")"
   ]
  },
  {
   "cell_type": "code",
   "execution_count": 3,
   "id": "beecd77f",
   "metadata": {},
   "outputs": [
    {
     "data": {
      "text/html": [
       "<div>\n",
       "<style scoped>\n",
       "    .dataframe tbody tr th:only-of-type {\n",
       "        vertical-align: middle;\n",
       "    }\n",
       "\n",
       "    .dataframe tbody tr th {\n",
       "        vertical-align: top;\n",
       "    }\n",
       "\n",
       "    .dataframe thead th {\n",
       "        text-align: right;\n",
       "    }\n",
       "</style>\n",
       "<table border=\"1\" class=\"dataframe\">\n",
       "  <thead>\n",
       "    <tr style=\"text-align: right;\">\n",
       "      <th></th>\n",
       "      <th>movie_id</th>\n",
       "      <th>title</th>\n",
       "      <th>cast</th>\n",
       "      <th>crew</th>\n",
       "    </tr>\n",
       "  </thead>\n",
       "  <tbody>\n",
       "    <tr>\n",
       "      <th>0</th>\n",
       "      <td>19995</td>\n",
       "      <td>Avatar</td>\n",
       "      <td>[{\"cast_id\": 242, \"character\": \"Jake Sully\", \"...</td>\n",
       "      <td>[{\"credit_id\": \"52fe48009251416c750aca23\", \"de...</td>\n",
       "    </tr>\n",
       "    <tr>\n",
       "      <th>1</th>\n",
       "      <td>285</td>\n",
       "      <td>Pirates of the Caribbean: At World's End</td>\n",
       "      <td>[{\"cast_id\": 4, \"character\": \"Captain Jack Spa...</td>\n",
       "      <td>[{\"credit_id\": \"52fe4232c3a36847f800b579\", \"de...</td>\n",
       "    </tr>\n",
       "    <tr>\n",
       "      <th>2</th>\n",
       "      <td>206647</td>\n",
       "      <td>Spectre</td>\n",
       "      <td>[{\"cast_id\": 1, \"character\": \"James Bond\", \"cr...</td>\n",
       "      <td>[{\"credit_id\": \"54805967c3a36829b5002c41\", \"de...</td>\n",
       "    </tr>\n",
       "    <tr>\n",
       "      <th>3</th>\n",
       "      <td>49026</td>\n",
       "      <td>The Dark Knight Rises</td>\n",
       "      <td>[{\"cast_id\": 2, \"character\": \"Bruce Wayne / Ba...</td>\n",
       "      <td>[{\"credit_id\": \"52fe4781c3a36847f81398c3\", \"de...</td>\n",
       "    </tr>\n",
       "    <tr>\n",
       "      <th>4</th>\n",
       "      <td>49529</td>\n",
       "      <td>John Carter</td>\n",
       "      <td>[{\"cast_id\": 5, \"character\": \"John Carter\", \"c...</td>\n",
       "      <td>[{\"credit_id\": \"52fe479ac3a36847f813eaa3\", \"de...</td>\n",
       "    </tr>\n",
       "  </tbody>\n",
       "</table>\n",
       "</div>"
      ],
      "text/plain": [
       "   movie_id                                     title  \\\n",
       "0     19995                                    Avatar   \n",
       "1       285  Pirates of the Caribbean: At World's End   \n",
       "2    206647                                   Spectre   \n",
       "3     49026                     The Dark Knight Rises   \n",
       "4     49529                               John Carter   \n",
       "\n",
       "                                                cast  \\\n",
       "0  [{\"cast_id\": 242, \"character\": \"Jake Sully\", \"...   \n",
       "1  [{\"cast_id\": 4, \"character\": \"Captain Jack Spa...   \n",
       "2  [{\"cast_id\": 1, \"character\": \"James Bond\", \"cr...   \n",
       "3  [{\"cast_id\": 2, \"character\": \"Bruce Wayne / Ba...   \n",
       "4  [{\"cast_id\": 5, \"character\": \"John Carter\", \"c...   \n",
       "\n",
       "                                                crew  \n",
       "0  [{\"credit_id\": \"52fe48009251416c750aca23\", \"de...  \n",
       "1  [{\"credit_id\": \"52fe4232c3a36847f800b579\", \"de...  \n",
       "2  [{\"credit_id\": \"54805967c3a36829b5002c41\", \"de...  \n",
       "3  [{\"credit_id\": \"52fe4781c3a36847f81398c3\", \"de...  \n",
       "4  [{\"credit_id\": \"52fe479ac3a36847f813eaa3\", \"de...  "
      ]
     },
     "execution_count": 3,
     "metadata": {},
     "output_type": "execute_result"
    }
   ],
   "source": [
    "df.head()"
   ]
  },
  {
   "cell_type": "code",
   "execution_count": 4,
   "id": "583b4c4f",
   "metadata": {},
   "outputs": [],
   "source": [
    "import pandas as pd\n",
    "import ast\n",
    "\n",
    "# Convert string representation of lists/dicts to actual lists/dicts\n",
    "df['cast'] = df['cast'].apply(ast.literal_eval)\n",
    "df['crew'] = df['crew'].apply(ast.literal_eval)"
   ]
  },
  {
   "cell_type": "code",
   "execution_count": null,
   "id": "6685392f",
   "metadata": {},
   "outputs": [],
   "source": [
    "# Extract important features from 'cast' and 'crew' columns (e.g., actors, directors)\n",
    "df['actors'] = df['cast'].apply(lambda x: [actor['name'] for actor in x])\n",
    "df['directors'] = df['crew'].apply(lambda x: [crew_member['name'] for crew_member in x if crew_member['job'] == 'Director'])"
   ]
  },
  {
   "cell_type": "code",
   "execution_count": null,
   "id": "6950e4bc",
   "metadata": {},
   "outputs": [],
   "source": [
    "# Create a new 'features' column containing a combination of relevant features\n",
    "df['features'] = df['actors'] + df['directors'] \n",
    "df['features'] = df['features'].apply(lambda x: ' '.join(x))  # Convert the list of features into a string\n",
    "# Now df contains a new column 'features' which combines actors and directors' names"
   ]
  },
  {
   "cell_type": "code",
   "execution_count": 5,
   "id": "7ac546b2",
   "metadata": {},
   "outputs": [],
   "source": [
    "from sklearn.feature_extraction.text import TfidfVectorizer\n",
    "from sklearn.metrics.pairwise import cosine_similarity\n",
    "\n",
    "# Feature extraction using TF-IDF\n",
    "tfidf_vectorizer = TfidfVectorizer()\n",
    "tfidf_matrix = tfidf_vectorizer.fit_transform(df['features'])\n",
    "cosine_similarities = cosine_similarity(tfidf_matrix, tfidf_matrix)\n"
   ]
  },
  {
   "cell_type": "code",
   "execution_count": 6,
   "id": "02ae3c8b",
   "metadata": {},
   "outputs": [],
   "source": [
    "def get_recommendations(movie_title, cosine_similarities, df):\n",
    "    movie_index = df[df['title'] == movie_title].index[0]\n",
    "    similar_movies = list(enumerate(cosine_similarities[movie_index]))\n",
    "    similar_movies = sorted(similar_movies, key=lambda x: x[1], reverse=True)\n",
    "    recommended_movies = []\n",
    "    for movie in similar_movies[1:11]: \n",
    "        recommended_movies.append(df.iloc[movie[0]]['title'])\n",
    "    return recommended_movies"
   ]
  },
  {
   "cell_type": "code",
   "execution_count": 15,
   "id": "25311af6",
   "metadata": {},
   "outputs": [
    {
     "name": "stdout",
     "output_type": "stream",
     "text": [
      "Recommended movies for Batman: ['Batman Returns', 'Corpse Bride', 'Superman IV: The Quest for Peace', 'Batman & Robin', 'Alpha and Omega: The Legend of the Saw Tooth Cave', 'Batman Forever', 'Some Like It Hot', 'I Dreamed of Africa', 'Shaft', 'Conan the Destroyer']\n"
     ]
    }
   ],
   "source": [
    "# Implementing the Model\n",
    "input_movie = \"Batman\"\n",
    "recommendations = get_recommendations(input_movie, cosine_similarities, df)\n",
    "print(\"Recommended movies for {}: {}\".format(input_movie, recommendations))"
   ]
  },
  {
   "cell_type": "code",
   "execution_count": 16,
   "id": "a45d3c0a",
   "metadata": {},
   "outputs": [
    {
     "name": "stdout",
     "output_type": "stream",
     "text": [
      "Recommended movies for Titanic: ['Les Misérables', 'The Departed', 'Gangs of New York', 'The Bounty', 'Jason Bourne', 'Return of the Jedi', \"The World's End\", 'Becoming Jane', 'Terminator 2: Judgment Day', 'Star Trek']\n"
     ]
    }
   ],
   "source": [
    "# Implementing the Model\n",
    "input_movie = \"Titanic\"\n",
    "recommendations = get_recommendations(input_movie, cosine_similarities, df)\n",
    "print(\"Recommended movies for {}: {}\".format(input_movie, recommendations))"
   ]
  },
  {
   "cell_type": "code",
   "execution_count": 28,
   "id": "3125639a",
   "metadata": {},
   "outputs": [
    {
     "name": "stdout",
     "output_type": "stream",
     "text": [
      "Recommended movies for Men in Black: ['Men in Black II', 'Get Shorty', 'The Addams Family', 'Death to Smoochy', 'Big Trouble', 'The Oh in Ohio', 'Men in Black 3', \"What's the Worst That Could Happen?\", 'What Planet Are You From?', 'Rocky Balboa']\n"
     ]
    }
   ],
   "source": [
    "# Implementing the Model\n",
    "input_movie = \"Men in Black\"\n",
    "recommendations = get_recommendations(input_movie, cosine_similarities, df)\n",
    "print(\"Recommended movies for {}: {}\".format(input_movie, recommendations))"
   ]
  },
  {
   "cell_type": "code",
   "execution_count": null,
   "id": "f3b37a2a",
   "metadata": {},
   "outputs": [],
   "source": []
  }
 ],
 "metadata": {
  "kernelspec": {
   "display_name": "Python 3 (ipykernel)",
   "language": "python",
   "name": "python3"
  },
  "language_info": {
   "codemirror_mode": {
    "name": "ipython",
    "version": 3
   },
   "file_extension": ".py",
   "mimetype": "text/x-python",
   "name": "python",
   "nbconvert_exporter": "python",
   "pygments_lexer": "ipython3",
   "version": "3.11.3"
  }
 },
 "nbformat": 4,
 "nbformat_minor": 5
}
